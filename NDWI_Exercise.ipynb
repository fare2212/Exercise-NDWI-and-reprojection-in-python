{
 "cells": [
  {
   "cell_type": "code",
   "execution_count": 2,
   "metadata": {
    "collapsed": true
   },
   "outputs": [],
   "source": [
    "# import modules\n",
    "from osgeo import gdal\n",
    "from osgeo.gdalconst import GA_ReadOnly, GDT_Float32\n",
    "import numpy as np\n",
    "\n",
    "\n"
   ]
  },
  {
   "cell_type": "code",
   "execution_count": 3,
   "metadata": {
    "collapsed": true
   },
   "outputs": [],
   "source": [
    "# Define variables\n",
    "data_path4 = \"/home/user/git/GeoScripting/data/LC81980242014260LGN00_sr_band4.tif\"\n",
    "data_path5 = \"/home/user/git/GeoScripting/data/LC81980242014260LGN00_sr_band5.tif\"\n",
    "\n"
   ]
  },
  {
   "cell_type": "code",
   "execution_count": 4,
   "metadata": {
    "collapsed": true
   },
   "outputs": [],
   "source": [
    "dataSource4 = gdal.Open(data_path4 , GA_ReadOnly)\n",
    "dataSource5 = gdal.Open(data_path5 , GA_ReadOnly)"
   ]
  },
  {
   "cell_type": "markdown",
   "metadata": {},
   "source": [
    "Read layers and compute NDWI\n",
    "\n"
   ]
  },
  {
   "cell_type": "code",
   "execution_count": 5,
   "metadata": {
    "collapsed": false
   },
   "outputs": [],
   "source": [
    "# Read data into an array\n",
    "band4Arr = dataSource4.ReadAsArray(0,0,dataSource4.RasterXSize, dataSource4.RasterYSize)\n",
    "band5Arr = dataSource5.ReadAsArray(0,0,dataSource5.RasterXSize, dataSource5.RasterYSize)"
   ]
  },
  {
   "cell_type": "code",
   "execution_count": 6,
   "metadata": {
    "collapsed": true
   },
   "outputs": [],
   "source": [
    "# set the data type\n",
    "band4Arr=band4Arr.astype(np.float32)\n",
    "band5Arr=band5Arr.astype(np.float32)"
   ]
  },
  {
   "cell_type": "code",
   "execution_count": 7,
   "metadata": {
    "collapsed": true
   },
   "outputs": [],
   "source": [
    "# Derive the NDWI\n",
    "mask = np.greater(band4Arr+band5Arr,0)"
   ]
  },
  {
   "cell_type": "code",
   "execution_count": 8,
   "metadata": {
    "collapsed": false
   },
   "outputs": [
    {
     "name": "stderr",
     "output_type": "stream",
     "text": [
      "/usr/local/lib/python2.7/dist-packages/ipykernel/__main__.py:3: RuntimeWarning: divide by zero encountered in divide\n",
      "  app.launch_new_instance()\n"
     ]
    }
   ],
   "source": [
    "# set np.errstate to avoid warning of invalid values (i.e. NaN values) in the divide \n",
    "with np.errstate(invalid='ignore'):\n",
    "    ndwi = np.choose(mask,(-99,(band4Arr-band5Arr)/(band4Arr+band5Arr)))"
   ]
  },
  {
   "cell_type": "code",
   "execution_count": 9,
   "metadata": {
    "collapsed": false
   },
   "outputs": [
    {
     "name": "stdout",
     "output_type": "stream",
     "text": [
      "NDWI min and max values -99.0 21.3333\n",
      "-2.36481\n"
     ]
    }
   ],
   "source": [
    "print \"NDWI min and max values\", ndwi.min(), ndwi.max()\n",
    "# Check the real minimum value\n",
    "print ndwi[ndwi>-99].min()"
   ]
  },
  {
   "cell_type": "code",
   "execution_count": 10,
   "metadata": {
    "collapsed": true
   },
   "outputs": [],
   "source": [
    "# Write the result to disk\n",
    "driver = gdal.GetDriverByName('GTiff')"
   ]
  },
  {
   "cell_type": "code",
   "execution_count": 11,
   "metadata": {
    "collapsed": false
   },
   "outputs": [
    {
     "data": {
      "text/plain": [
       "0"
      ]
     },
     "execution_count": 11,
     "metadata": {},
     "output_type": "execute_result"
    }
   ],
   "source": [
    "outDataSet=driver.Create('/home/user/git/GeoScripting/data/ndwi.tif', dataSource4.RasterXSize, dataSource4.RasterYSize, 1, GDT_Float32)\n",
    "outBand = outDataSet.GetRasterBand(1)\n",
    "outBand.WriteArray(ndwi,0,0)\n",
    "outBand.SetNoDataValue(-99)"
   ]
  },
  {
   "cell_type": "code",
   "execution_count": 12,
   "metadata": {
    "collapsed": false
   },
   "outputs": [
    {
     "data": {
      "text/plain": [
       "0"
      ]
     },
     "execution_count": 12,
     "metadata": {},
     "output_type": "execute_result"
    }
   ],
   "source": [
    "# set the projection and extent information of the dataset\n",
    "outDataSet.SetProjection(dataSource4.GetProjection())\n",
    "outDataSet.SetGeoTransform(dataSource4.GetGeoTransform())"
   ]
  },
  {
   "cell_type": "code",
   "execution_count": 13,
   "metadata": {
    "collapsed": true
   },
   "outputs": [],
   "source": [
    "outBand.FlushCache()\n",
    "outDataSet.FlushCache()"
   ]
  },
  {
   "cell_type": "code",
   "execution_count": 14,
   "metadata": {
    "collapsed": false
   },
   "outputs": [
    {
     "name": "stdout",
     "output_type": "stream",
     "text": [
      "Processing input file /home/user/git/GeoScripting/data/ndwi.tif.\n",
      "Using internal nodata values (e.g. -99) for image /home/user/git/GeoScripting/data/ndwi.tif.\n",
      "Copying nodata values from source /home/user/git/GeoScripting/data/ndwi.tif to destination /home/user/git/GeoScripting/data/ndwi_ll.tif.\n",
      "0...10...20...30...40...50...60...70...80...90...100 - done.\n"
     ]
    }
   ],
   "source": [
    "!gdalwarp -t_srs \"EPSG:4326\" /home/user/git/GeoScripting/data/ndwi.tif /home/user/git/GeoScripting/data/ndwi_ll.tif"
   ]
  },
  {
   "cell_type": "code",
   "execution_count": 15,
   "metadata": {
    "collapsed": false
   },
   "outputs": [
    {
     "name": "stdout",
     "output_type": "stream",
     "text": [
      "Driver: GTiff/GeoTIFF\n",
      "Files: /home/user/git/GeoScripting/data/ndwi.tif\n",
      "Size is 7791, 7911\n",
      "Coordinate System is:\n",
      "PROJCS[\"WGS 84 / UTM zone 31N\",\n",
      "    GEOGCS[\"WGS 84\",\n",
      "        DATUM[\"WGS_1984\",\n",
      "            SPHEROID[\"WGS 84\",6378137,298.257223563,\n",
      "                AUTHORITY[\"EPSG\",\"7030\"]],\n",
      "            AUTHORITY[\"EPSG\",\"6326\"]],\n",
      "        PRIMEM[\"Greenwich\",0],\n",
      "        UNIT[\"degree\",0.0174532925199433],\n",
      "        AUTHORITY[\"EPSG\",\"4326\"]],\n",
      "    PROJECTION[\"Transverse_Mercator\"],\n",
      "    PARAMETER[\"latitude_of_origin\",0],\n",
      "    PARAMETER[\"central_meridian\",3],\n",
      "    PARAMETER[\"scale_factor\",0.9996],\n",
      "    PARAMETER[\"false_easting\",500000],\n",
      "    PARAMETER[\"false_northing\",0],\n",
      "    UNIT[\"metre\",1,\n",
      "        AUTHORITY[\"EPSG\",\"9001\"]],\n",
      "    AUTHORITY[\"EPSG\",\"32631\"]]\n",
      "Origin = (529185.000000000000000,5847015.000000000000000)\n",
      "Pixel Size = (30.000000000000000,-30.000000000000000)\n",
      "Metadata:\n",
      "  AREA_OR_POINT=Area\n",
      "Image Structure Metadata:\n",
      "  INTERLEAVE=BAND\n",
      "Corner Coordinates:\n",
      "Upper Left  (  529185.000, 5847015.000) (  3d25'57.39\"E, 52d46'19.83\"N)\n",
      "Lower Left  (  529185.000, 5609685.000) (  3d24'45.80\"E, 50d38'17.88\"N)\n",
      "Upper Right (  762915.000, 5847015.000) (  6d53'32.41\"E, 52d42'32.58\"N)\n",
      "Lower Right (  762915.000, 5609685.000) (  6d42'50.08\"E, 50d34'47.26\"N)\n",
      "Center      (  646050.000, 5728350.000) (  5d 6'46.27\"E, 51d41'13.53\"N)\n",
      "Band 1 Block=7791x1 Type=Float32, ColorInterp=Gray\n",
      "  NoData Value=-99\n",
      "Driver: GTiff/GeoTIFF\n",
      "Files: /home/user/git/GeoScripting/data/ndwi_ll.tif\n",
      "Size is 9790, 6168\n",
      "Coordinate System is:\n",
      "GEOGCS[\"WGS 84\",\n",
      "    DATUM[\"WGS_1984\",\n",
      "        SPHEROID[\"WGS 84\",6378137,298.257223563,\n",
      "            AUTHORITY[\"EPSG\",\"7030\"]],\n",
      "        AUTHORITY[\"EPSG\",\"6326\"]],\n",
      "    PRIMEM[\"Greenwich\",0],\n",
      "    UNIT[\"degree\",0.0174532925199433],\n",
      "    AUTHORITY[\"EPSG\",\"4326\"]]\n",
      "Origin = (3.412720989343660,52.772174160489875)\n",
      "Pixel Size = (0.000355418665319,-0.000355418665319)\n",
      "Metadata:\n",
      "  AREA_OR_POINT=Area\n",
      "Image Structure Metadata:\n",
      "  INTERLEAVE=BAND\n",
      "Corner Coordinates:\n",
      "Upper Left  (   3.4127210,  52.7721742) (  3d24'45.80\"E, 52d46'19.83\"N)\n",
      "Lower Left  (   3.4127210,  50.5799518) (  3d24'45.80\"E, 50d34'47.83\"N)\n",
      "Upper Right (   6.8922697,  52.7721742) (  6d53'32.17\"E, 52d46'19.83\"N)\n",
      "Lower Right (   6.8922697,  50.5799518) (  6d53'32.17\"E, 50d34'47.83\"N)\n",
      "Center      (   5.1524954,  51.6760630) (  5d 9' 8.98\"E, 51d40'33.83\"N)\n",
      "Band 1 Block=9790x1 Type=Float32, ColorInterp=Gray\n",
      "  NoData Value=-99\n"
     ]
    }
   ],
   "source": [
    "!gdalinfo /home/user/git/GeoScripting/data/ndwi.tif\n",
    "!gdalinfo /home/user/git/GeoScripting/data/ndwi_ll.tif\n"
   ]
  },
  {
   "cell_type": "markdown",
   "metadata": {},
   "source": [
    "Visualise the result"
   ]
  },
  {
   "cell_type": "code",
   "execution_count": 16,
   "metadata": {
    "collapsed": true
   },
   "outputs": [],
   "source": [
    "%matplotlib inline\n",
    "from osgeo import gdal\n",
    "import matplotlib.pyplot as plt"
   ]
  },
  {
   "cell_type": "code",
   "execution_count": 27,
   "metadata": {
    "collapsed": false
   },
   "outputs": [
    {
     "data": {
      "image/png": "[encoded data removed]",
      "text/plain": [
       "<matplotlib.figure.Figure at 0xae2d1cac>"
      ]
     },
     "metadata": {},
     "output_type": "display_data"
    }
   ],
   "source": [
    "# Open image\n",
    "dsll = gdal.Open(\"/home/user/git/GeoScripting/data/ndwi_ll.tif\")\n",
    "\n",
    "# Read raster data\n",
    "ndwi = dsll.ReadAsArray(0, 0, dsll.RasterXSize, dsll.RasterYSize)\n",
    "# because of memory problem we will crop the image\n",
    "\n",
    "ndwi_crop = ndwi[5000:5900, 5000:5900]\n",
    "plt.imshow(ndwi_crop, interpolation='nearest', vmin=0, cmap=plt.cm.gist_earth)\n",
    "plt.show()\n"
   ]
  },
  {
   "cell_type": "code",
   "execution_count": null,
   "metadata": {
    "collapsed": true
   },
   "outputs": [],
   "source": []
  }
 ],
 "metadata": {
  "kernelspec": {
   "display_name": "Python 2",
   "language": "python",
   "name": "python2"
  },
  "language_info": {
   "codemirror_mode": {
    "name": "ipython",
    "version": 2
   },
   "file_extension": ".py",
   "mimetype": "text/x-python",
   "name": "python",
   "nbconvert_exporter": "python",
   "pygments_lexer": "ipython2",
   "version": "2.7.6"
  }
 },
 "nbformat": 4,
 "nbformat_minor": 0
}
